{
  "nbformat": 4,
  "nbformat_minor": 0,
  "metadata": {
    "colab": {
      "provenance": [],
      "gpuType": "T4",
      "authorship_tag": "ABX9TyPX4GkvXci/LmSw6JSBB3zy",
      "include_colab_link": true
    },
    "kernelspec": {
      "name": "python3",
      "display_name": "Python 3"
    },
    "language_info": {
      "name": "python"
    },
    "accelerator": "GPU"
  },
  "cells": [
    {
      "cell_type": "markdown",
      "metadata": {
        "id": "view-in-github",
        "colab_type": "text"
      },
      "source": [
        "<a href=\"https://colab.research.google.com/github/RanjanRaj07/CUDAProgramming/blob/main/cudacode1.ipynb\" target=\"_parent\"><img src=\"https://colab.research.google.com/assets/colab-badge.svg\" alt=\"Open In Colab\"/></a>"
      ]
    },
    {
      "cell_type": "code",
      "execution_count": null,
      "metadata": {
        "colab": {
          "base_uri": "https://localhost:8080/"
        },
        "id": "2LN__4nex6jc",
        "outputId": "66ffe544-e903-41cd-f879-e8f3b32e453f"
      },
      "outputs": [
        {
          "output_type": "stream",
          "name": "stdout",
          "text": [
            "nvcc: NVIDIA (R) Cuda compiler driver\n",
            "Copyright (c) 2005-2022 NVIDIA Corporation\n",
            "Built on Wed_Sep_21_10:33:58_PDT_2022\n",
            "Cuda compilation tools, release 11.8, V11.8.89\n",
            "Build cuda_11.8.r11.8/compiler.31833905_0\n"
          ]
        }
      ],
      "source": [
        "!nvcc --version"
      ]
    },
    {
      "cell_type": "code",
      "source": [
        "!pip install git+https://github.com/andreinechaev/nvcc4jupyter.git"
      ],
      "metadata": {
        "colab": {
          "base_uri": "https://localhost:8080/"
        },
        "id": "4p_aMHi4yInU",
        "outputId": "81db9dd2-1b15-4fef-c293-a6b84f3ed6b1"
      },
      "execution_count": null,
      "outputs": [
        {
          "output_type": "stream",
          "name": "stdout",
          "text": [
            "Collecting git+https://github.com/andreinechaev/nvcc4jupyter.git\n",
            "  Cloning https://github.com/andreinechaev/nvcc4jupyter.git to /tmp/pip-req-build-lm0xbuel\n",
            "  Running command git clone --filter=blob:none --quiet https://github.com/andreinechaev/nvcc4jupyter.git /tmp/pip-req-build-lm0xbuel\n",
            "  Resolved https://github.com/andreinechaev/nvcc4jupyter.git to commit 0a71d56e5dce3ff1f0dd2c47c29367629262f527\n",
            "  Preparing metadata (setup.py) ... \u001b[?25l\u001b[?25hdone\n",
            "Building wheels for collected packages: NVCCPlugin\n",
            "  Building wheel for NVCCPlugin (setup.py) ... \u001b[?25l\u001b[?25hdone\n",
            "  Created wheel for NVCCPlugin: filename=NVCCPlugin-0.0.2-py3-none-any.whl size=4295 sha256=8397e781f8f0ee5a52f2cdba7c08ab0481babfc33f89720bcf8a1d94aee94d0d\n",
            "  Stored in directory: /tmp/pip-ephem-wheel-cache-rsbxzvav/wheels/a8/b9/18/23f8ef71ceb0f63297dd1903aedd067e6243a68ea756d6feea\n",
            "Successfully built NVCCPlugin\n",
            "Installing collected packages: NVCCPlugin\n",
            "Successfully installed NVCCPlugin-0.0.2\n"
          ]
        }
      ]
    },
    {
      "cell_type": "code",
      "source": [
        "%load_ext nvcc_plugin"
      ],
      "metadata": {
        "colab": {
          "base_uri": "https://localhost:8080/"
        },
        "id": "OTvcGS_ryOUA",
        "outputId": "a503a3a1-0fea-4888-d0c4-e72c994322fb"
      },
      "execution_count": null,
      "outputs": [
        {
          "output_type": "stream",
          "name": "stdout",
          "text": [
            "The nvcc_plugin extension is already loaded. To reload it, use:\n",
            "  %reload_ext nvcc_plugin\n"
          ]
        }
      ]
    },
    {
      "cell_type": "code",
      "source": [
        "%%cu\n",
        "#include <iostream>\n",
        "\tint main()\n",
        "{\n",
        "\tstd::cout << \"welcome to cude code\\n\";\n",
        "\treturn 0;\n",
        "}"
      ],
      "metadata": {
        "colab": {
          "base_uri": "https://localhost:8080/"
        },
        "id": "KmwPkFjCyWBy",
        "outputId": "826d31e3-7a4c-4243-9824-5a27634e4af1"
      },
      "execution_count": null,
      "outputs": [
        {
          "output_type": "stream",
          "name": "stdout",
          "text": [
            "welcome to cude code\n",
            "\n"
          ]
        }
      ]
    },
    {
      "cell_type": "code",
      "source": [
        "%%cu\n",
        "#include <iostream>\n",
        "#include <cmath>\n",
        "#include <chrono>\n",
        "\n",
        "// CUDA kernel to perform vector addition\n",
        "__global__ void vectorAdd(float* A, float* B, float* C, int size) {\n",
        "    int idx = blockIdx.x * blockDim.x + threadIdx.x;\n",
        "    if (idx < size) {\n",
        "        C[idx] = A[idx] + B[idx];\n",
        "    }\n",
        "}\n",
        "\n",
        "int main() {\n",
        "    int size = 3000000;\n",
        "    int numBytes = size * sizeof(float);\n",
        "\n",
        "    // Allocate memory on host\n",
        "    float* h_A = new float[size];\n",
        "    float* h_B = new float[size];\n",
        "    float* h_C = new float[size];\n",
        "\n",
        "    // Initialize input arrays\n",
        "    for (int i = 0; i < size; ++i) {\n",
        "        h_A[i] = static_cast<float>(i);\n",
        "        h_B[i] = static_cast<float>(2 * i);\n",
        "    }\n",
        "\n",
        "    // Allocate memory on device\n",
        "    float *d_A, *d_B, *d_C;\n",
        "    cudaMalloc(&d_A, numBytes);\n",
        "    cudaMalloc(&d_B, numBytes);\n",
        "    cudaMalloc(&d_C, numBytes);\n",
        "\n",
        "    // Transfer input data from host to device\n",
        "    cudaMemcpy(d_A, h_A, numBytes, cudaMemcpyHostToDevice);\n",
        "    cudaMemcpy(d_B, h_B, numBytes, cudaMemcpyHostToDevice);\n",
        "\n",
        "    // Define grid and block dimensions\n",
        "    int blockSize = 256;\n",
        "    int gridSize = (size + blockSize - 1) / blockSize;\n",
        "\n",
        "    // Measure execution time using chrono\n",
        "    auto start = std::chrono::high_resolution_clock::now();\n",
        "\n",
        "    // Launch the kernel\n",
        "    vectorAdd<<<gridSize, blockSize>>>(d_A, d_B, d_C, size);\n",
        "\n",
        "    // Synchronize to ensure the kernel finishes\n",
        "    cudaDeviceSynchronize();\n",
        "\n",
        "    auto end = std::chrono::high_resolution_clock::now();\n",
        "    std::chrono::duration<double> elapsed = end - start;\n",
        "\n",
        "    // Transfer results from device to host\n",
        "    cudaMemcpy(h_C, d_C, numBytes, cudaMemcpyDeviceToHost);\n",
        "\n",
        "    // Print a few results for verification\n",
        "    for (int i = 0; i < 10; ++i) {\n",
        "        std::cout << h_A[i] << \" + \" << h_B[i] << \" = \" << h_C[i] << std::endl;\n",
        "    }\n",
        "\n",
        "    std::cout << \"Time taken for execution: \" << elapsed.count() << \" seconds\" << std::endl;\n",
        "\n",
        "    // Clean up host memory\n",
        "    delete[] h_A;\n",
        "    delete[] h_B;\n",
        "    delete[] h_C;\n",
        "\n",
        "    // Free device memory\n",
        "    cudaFree(d_A);\n",
        "    cudaFree(d_B);\n",
        "    cudaFree(d_C);\n",
        "\n",
        "    return 0;\n",
        "}\n"
      ],
      "metadata": {
        "colab": {
          "base_uri": "https://localhost:8080/"
        },
        "id": "qxIpTEhB4t3H",
        "outputId": "555c636e-5089-4dfb-ff47-ad2342fc955e"
      },
      "execution_count": null,
      "outputs": [
        {
          "output_type": "stream",
          "name": "stdout",
          "text": [
            "0 + 0 = 0\n",
            "1 + 2 = 0\n",
            "2 + 4 = 0\n",
            "3 + 6 = 0\n",
            "4 + 8 = 0\n",
            "5 + 10 = 0\n",
            "6 + 12 = 0\n",
            "7 + 14 = 0\n",
            "8 + 16 = 0\n",
            "9 + 18 = 0\n",
            "Time taken for execution: 4.52e-06 seconds\n",
            "\n"
          ]
        }
      ]
    }
  ]
}