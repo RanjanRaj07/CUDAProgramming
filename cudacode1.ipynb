{
  "nbformat": 4,
  "nbformat_minor": 0,
  "metadata": {
    "colab": {
      "provenance": [],
      "authorship_tag": "ABX9TyPwIB4FACr/TXx5+Uy/8Lkj",
      "include_colab_link": true
    },
    "kernelspec": {
      "name": "python3",
      "display_name": "Python 3"
    },
    "language_info": {
      "name": "python"
    }
  },
  "cells": [
    {
      "cell_type": "markdown",
      "metadata": {
        "id": "view-in-github",
        "colab_type": "text"
      },
      "source": [
        "<a href=\"https://colab.research.google.com/github/RanjanRaj07/CUDAProgramming/blob/main/cudacode1.ipynb\" target=\"_parent\"><img src=\"https://colab.research.google.com/assets/colab-badge.svg\" alt=\"Open In Colab\"/></a>"
      ]
    },
    {
      "cell_type": "code",
      "execution_count": null,
      "metadata": {
        "colab": {
          "base_uri": "https://localhost:8080/"
        },
        "id": "2LN__4nex6jc",
        "outputId": "66ffe544-e903-41cd-f879-e8f3b32e453f"
      },
      "outputs": [
        {
          "output_type": "stream",
          "name": "stdout",
          "text": [
            "nvcc: NVIDIA (R) Cuda compiler driver\n",
            "Copyright (c) 2005-2022 NVIDIA Corporation\n",
            "Built on Wed_Sep_21_10:33:58_PDT_2022\n",
            "Cuda compilation tools, release 11.8, V11.8.89\n",
            "Build cuda_11.8.r11.8/compiler.31833905_0\n"
          ]
        }
      ],
      "source": [
        "#check for cuda compiler.\n",
        "!nvcc --version"
      ]
    },
    {
      "cell_type": "code",
      "source": [
        "#install nvcc plugin for jupter notebook\n",
        "!pip install git+https://github.com/andreinechaev/nvcc4jupyter.git"
      ],
      "metadata": {
        "colab": {
          "base_uri": "https://localhost:8080/"
        },
        "id": "4p_aMHi4yInU",
        "outputId": "ca039a2d-4ad3-4459-d037-5ecf9b905ba9"
      },
      "execution_count": 1,
      "outputs": [
        {
          "output_type": "stream",
          "name": "stdout",
          "text": [
            "Collecting git+https://github.com/andreinechaev/nvcc4jupyter.git\n",
            "  Cloning https://github.com/andreinechaev/nvcc4jupyter.git to /tmp/pip-req-build-du4cecyb\n",
            "  Running command git clone --filter=blob:none --quiet https://github.com/andreinechaev/nvcc4jupyter.git /tmp/pip-req-build-du4cecyb\n",
            "  Resolved https://github.com/andreinechaev/nvcc4jupyter.git to commit 0a71d56e5dce3ff1f0dd2c47c29367629262f527\n",
            "  Preparing metadata (setup.py) ... \u001b[?25l\u001b[?25hdone\n",
            "Building wheels for collected packages: NVCCPlugin\n",
            "  Building wheel for NVCCPlugin (setup.py) ... \u001b[?25l\u001b[?25hdone\n",
            "  Created wheel for NVCCPlugin: filename=NVCCPlugin-0.0.2-py3-none-any.whl size=4295 sha256=98df95280b0229a6f340d47ad59e486471064197ced4e8c3483f2f13411ba9e3\n",
            "  Stored in directory: /tmp/pip-ephem-wheel-cache-l9q_uk4l/wheels/a8/b9/18/23f8ef71ceb0f63297dd1903aedd067e6243a68ea756d6feea\n",
            "Successfully built NVCCPlugin\n",
            "Installing collected packages: NVCCPlugin\n",
            "Successfully installed NVCCPlugin-0.0.2\n"
          ]
        }
      ]
    },
    {
      "cell_type": "code",
      "source": [
        "#load the installed nvcc plugin for notebook\n",
        "%load_ext nvcc_plugin"
      ],
      "metadata": {
        "colab": {
          "base_uri": "https://localhost:8080/"
        },
        "id": "OTvcGS_ryOUA",
        "outputId": "3c600bc3-e278-4704-c887-5b9e0706d4f5"
      },
      "execution_count": 2,
      "outputs": [
        {
          "output_type": "stream",
          "name": "stdout",
          "text": [
            "created output directory at /content/src\n",
            "Out bin /content/result.out\n"
          ]
        }
      ]
    },
    {
      "cell_type": "code",
      "source": [
        "# a test program\n",
        "%%cu\n",
        "#include <iostream>\n",
        "\tint main()\n",
        "{\n",
        "\tstd::cout << \"welcome to cude code\\n\";\n",
        "\treturn 0;\n",
        "}"
      ],
      "metadata": {
        "colab": {
          "base_uri": "https://localhost:8080/"
        },
        "id": "KmwPkFjCyWBy",
        "outputId": "cd87fb18-465f-4262-9fc7-35c57d28cdb6"
      },
      "execution_count": 3,
      "outputs": [
        {
          "output_type": "stream",
          "name": "stdout",
          "text": [
            "welcome to cude code\n",
            "\n"
          ]
        }
      ]
    },
    {
      "cell_type": "code",
      "source": [
        "# GPU CUDA program for adding 3000000 items\n",
        "%%cu\n",
        "#include <iostream>\n",
        "#include <cmath>\n",
        "#include <chrono>\n",
        "\n",
        "// CUDA kernel to perform vector addition\n",
        "__global__ void vectorAdd(float* A, float* B, float* C, int size) {\n",
        "    int idx = blockIdx.x * blockDim.x + threadIdx.x;\n",
        "    if (idx < size) {\n",
        "        C[idx] = A[idx] + B[idx];\n",
        "    }\n",
        "}\n",
        "\n",
        "int main() {\n",
        "    int size = 3000000;\n",
        "    int numBytes = size * sizeof(float);\n",
        "\n",
        "    // Allocate memory on host\n",
        "    float* h_A = new float[size];\n",
        "    float* h_B = new float[size];\n",
        "    float* h_C = new float[size];\n",
        "\n",
        "    // Initialize input arrays\n",
        "    for (int i = 0; i < size; ++i) {\n",
        "        h_A[i] = static_cast<float>(i);\n",
        "        h_B[i] = static_cast<float>(2 * i);\n",
        "    }\n",
        "\n",
        "    // Allocate memory on device\n",
        "    float *d_A, *d_B, *d_C;\n",
        "    cudaMalloc(&d_A, numBytes);\n",
        "    cudaMalloc(&d_B, numBytes);\n",
        "    cudaMalloc(&d_C, numBytes);\n",
        "\n",
        "    // Transfer input data from host to device\n",
        "    cudaMemcpy(d_A, h_A, numBytes, cudaMemcpyHostToDevice);\n",
        "    cudaMemcpy(d_B, h_B, numBytes, cudaMemcpyHostToDevice);\n",
        "\n",
        "    // Define grid and block dimensions\n",
        "    int blockSize = 256;\n",
        "    int gridSize = (size + blockSize - 1) / blockSize;\n",
        "\n",
        "    // Measure execution time using chrono\n",
        "    auto start = std::chrono::high_resolution_clock::now();\n",
        "\n",
        "    // Launch the kernel\n",
        "    vectorAdd<<<gridSize, blockSize>>>(d_A, d_B, d_C, size);\n",
        "\n",
        "    // Synchronize to ensure the kernel finishes\n",
        "    cudaDeviceSynchronize();\n",
        "\n",
        "    auto end = std::chrono::high_resolution_clock::now();\n",
        "    std::chrono::duration<double> elapsed = end - start;\n",
        "\n",
        "    // Transfer results from device to host\n",
        "    cudaMemcpy(h_C, d_C, numBytes, cudaMemcpyDeviceToHost);\n",
        "\n",
        "    // Print a few results for verification\n",
        "    for (int i = 0; i < 10; ++i) {\n",
        "        std::cout << h_A[i] << \" + \" << h_B[i] << \" = \" << h_C[i] << std::endl;\n",
        "    }\n",
        "\n",
        "    std::cout << \"Time taken for execution: \" << elapsed.count() << \" seconds\" << std::endl;\n",
        "\n",
        "    // Clean up host memory\n",
        "    delete[] h_A;\n",
        "    delete[] h_B;\n",
        "    delete[] h_C;\n",
        "\n",
        "    // Free device memory\n",
        "    cudaFree(d_A);\n",
        "    cudaFree(d_B);\n",
        "    cudaFree(d_C);\n",
        "\n",
        "    return 0;\n",
        "}\n"
      ],
      "metadata": {
        "colab": {
          "base_uri": "https://localhost:8080/"
        },
        "id": "qxIpTEhB4t3H",
        "outputId": "08880be3-c675-40d2-f37d-a483e7742e2d"
      },
      "execution_count": 4,
      "outputs": [
        {
          "output_type": "stream",
          "name": "stdout",
          "text": [
            "0 + 0 = 0\n",
            "1 + 2 = 3\n",
            "2 + 4 = 6\n",
            "3 + 6 = 9\n",
            "4 + 8 = 12\n",
            "5 + 10 = 15\n",
            "6 + 12 = 18\n",
            "7 + 14 = 21\n",
            "8 + 16 = 24\n",
            "9 + 18 = 27\n",
            "Time taken for execution: 0.000185186 seconds\n",
            "\n"
          ]
        }
      ]
    },
    {
      "cell_type": "markdown",
      "source": [
        "***3,00,0000*** items processed in less than a milli second\n",
        "\n",
        "---\n",
        "***POWER OF GPU***\n"
      ],
      "metadata": {
        "id": "ijvd82epiFpb"
      }
    }
  ]
}